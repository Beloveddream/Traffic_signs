{
  "nbformat": 4,
  "nbformat_minor": 0,
  "metadata": {
    "colab": {
      "name": "les1.ipynb",
      "provenance": [],
      "authorship_tag": "ABX9TyNhq87DA/LISvH3mPFMLlCY",
      "include_colab_link": true
    },
    "kernelspec": {
      "name": "python3",
      "display_name": "Python 3"
    },
    "language_info": {
      "name": "python"
    },
    "accelerator": "GPU"
  },
  "cells": [
    {
      "cell_type": "markdown",
      "metadata": {
        "id": "view-in-github",
        "colab_type": "text"
      },
      "source": [
        "<a href=\"https://colab.research.google.com/github/Beloveddream/Traffic_signs/blob/main/les1.ipynb\" target=\"_parent\"><img src=\"https://colab.research.google.com/assets/colab-badge.svg\" alt=\"Open In Colab\"/></a>"
      ]
    },
    {
      "cell_type": "code",
      "metadata": {
        "id": "Iirt9tgLjDtu",
        "colab": {
          "base_uri": "https://localhost:8080/"
        },
        "outputId": "f2d463d8-7a53-4e16-b78a-a9ae2fdb092a"
      },
      "source": [
        "import tensorflow as tf\n",
        "print(tf.__version__)"
      ],
      "execution_count": 1,
      "outputs": [
        {
          "output_type": "stream",
          "text": [
            "2.5.0\n"
          ],
          "name": "stdout"
        }
      ]
    },
    {
      "cell_type": "code",
      "metadata": {
        "colab": {
          "base_uri": "https://localhost:8080/"
        },
        "id": "CaJ48efYloBT",
        "outputId": "8b2734c9-3036-40e1-c463-97e037f0161f"
      },
      "source": [
        "from google.colab import drive\n",
        "drive.mount('/content/gdrive')"
      ],
      "execution_count": 2,
      "outputs": [
        {
          "output_type": "stream",
          "text": [
            "Mounted at /content/gdrive\n"
          ],
          "name": "stdout"
        }
      ]
    },
    {
      "cell_type": "code",
      "metadata": {
        "id": "Uqi5T3yal72y"
      },
      "source": [
        "# 使用LeNet模型对Mnist手写数字进行识别\n",
        "from tensorflow.keras import layers\n",
        "from tensorflow.keras.datasets import mnist\n",
        "from tensorflow.keras.layers import Conv2D, MaxPooling2D\n",
        "from tensorflow.keras.layers import Dense, Flatten\n",
        "from tensorflow.keras.models import Sequential\n",
        "import numpy as np"
      ],
      "execution_count": 3,
      "outputs": []
    },
    {
      "cell_type": "code",
      "metadata": {
        "colab": {
          "base_uri": "https://localhost:8080/"
        },
        "id": "ao5P7nslmYrp",
        "outputId": "3ea45b6d-e7eb-42eb-c108-65e4d7263c8d"
      },
      "source": [
        "# 数据加载\n",
        "#(train_x, train_y), (test_x, test_y) = mnist.load_data() #从网上下载数据集\n",
        "data = np.load(\"/content/gdrive/My Drive/les1/mnist.npz\") #从本地读取数据集\n",
        "print(data.files)\n",
        "train_x, train_y, test_x, test_y  = data['x_train'], data['y_train'], data['x_test'], data['y_test']\n"
      ],
      "execution_count": 4,
      "outputs": [
        {
          "output_type": "stream",
          "text": [
            "['x_test', 'x_train', 'y_train', 'y_test']\n"
          ],
          "name": "stdout"
        }
      ]
    },
    {
      "cell_type": "code",
      "metadata": {
        "id": "xPYvSIuAmtw-"
      },
      "source": [
        "# 输入数据为 mnist 数据集\n",
        "train_x = train_x.reshape(train_x.shape[0], 28, 28, 1)\n",
        "test_x = test_x.reshape(test_x.shape[0], 28, 28, 1)\n",
        "train_x = train_x / 255\n",
        "test_x = test_x / 255\n",
        "train_y = tf.keras.utils.to_categorical(train_y, 10)\n",
        "test_y = tf.keras.utils.to_categorical(test_y, 10)"
      ],
      "execution_count": 5,
      "outputs": []
    },
    {
      "cell_type": "code",
      "metadata": {
        "colab": {
          "base_uri": "https://localhost:8080/"
        },
        "id": "PdAZ2ssrmwXA",
        "outputId": "6ec8398b-b3b2-4628-dc6c-e5dfa21d6a57"
      },
      "source": [
        "# 创建序贯模型\n",
        "model = Sequential()\n",
        "# 第一层卷积层：6个卷积核，大小为5∗5, relu激活函数\n",
        "model.add(Conv2D(6, kernel_size=(5, 5), activation='relu', input_shape=(28, 28, 1)))\n",
        "# 第二层池化层：最大池化\n",
        "model.add(MaxPooling2D(pool_size=(2, 2)))\n",
        "# 第三层卷积层：16个卷积核，大小为5*5，relu激活函数\n",
        "model.add(Conv2D(16, kernel_size=(5, 5), activation='relu'))\n",
        "# 第二层池化层：最大池化\n",
        "model.add(MaxPooling2D(pool_size=(2, 2)))\n",
        "# 将参数进行扁平化，在LeNet5中称之为卷积层，实际上这一层是一维向量，和全连接层一样\n",
        "model.add(Flatten())\n",
        "model.add(Dense(120, activation='relu'))\n",
        "# 全连接层，输出节点个数为84个\n",
        "model.add(Dense(84, activation='relu'))\n",
        "# 输出层 用softmax 激活函数计算分类概率\n",
        "model.add(Dense(10, activation='softmax'))\n",
        "# 设置损失函数和优化器配置\n",
        "model.compile(loss=tf.keras.metrics.categorical_crossentropy, optimizer=tf.keras.optimizers.Adam(), metrics=['accuracy'])\n",
        "# 传入训练数据进行训练\n",
        "model.fit(train_x, train_y, batch_size=128, epochs=2, verbose=1, validation_data=(test_x, test_y))\n",
        "# 对结果进行评估\n",
        "score = model.evaluate(test_x, test_y)\n",
        "print('误差:%0.4lf' %score[0])\n",
        "print('准确率:', score[1])"
      ],
      "execution_count": 6,
      "outputs": [
        {
          "output_type": "stream",
          "text": [
            "Epoch 1/2\n",
            "469/469 [==============================] - 34s 5ms/step - loss: 0.3375 - accuracy: 0.9029 - val_loss: 0.0958 - val_accuracy: 0.9697\n",
            "Epoch 2/2\n",
            "469/469 [==============================] - 2s 4ms/step - loss: 0.0900 - accuracy: 0.9726 - val_loss: 0.0622 - val_accuracy: 0.9802\n",
            "313/313 [==============================] - 1s 2ms/step - loss: 0.0622 - accuracy: 0.9802\n",
            "误差:0.0622\n",
            "准确率: 0.9801999926567078\n"
          ],
          "name": "stdout"
        }
      ]
    },
    {
      "cell_type": "code",
      "metadata": {
        "id": "k_93Ra6DCQe8"
      },
      "source": [
        "# -*- coding: utf-8 -*-\n",
        "# 使用LR进行MNIST手写数字分类\n",
        "from sklearn.model_selection import train_test_split\n",
        "from sklearn import preprocessing\n",
        "from sklearn.metrics import accuracy_score\n",
        "from sklearn.datasets import load_digits\n",
        "from sklearn.linear_model import LogisticRegression\n",
        "import matplotlib.pyplot as plt"
      ],
      "execution_count": 7,
      "outputs": []
    },
    {
      "cell_type": "code",
      "metadata": {
        "colab": {
          "base_uri": "https://localhost:8080/",
          "height": 449
        },
        "id": "3xXj0aseCVgF",
        "outputId": "23959df3-2844-4cd3-bc8e-dd171685fdc4"
      },
      "source": [
        "# 加载数据\n",
        "digits = load_digits()\n",
        "data = digits.data\n",
        "# 数据探索\n",
        "print(data.shape)\n",
        "# 查看第一幅图像\n",
        "print(digits.images[1])\n",
        "# 第一幅图像代表的数字含义\n",
        "print(digits.target[1])\n",
        "# 将第一幅图像显示出来\n",
        "plt.gray()\n",
        "plt.title('Handwritten Digits')\n",
        "plt.imshow(digits.images[1])\n",
        "plt.show()"
      ],
      "execution_count": 10,
      "outputs": [
        {
          "output_type": "stream",
          "text": [
            "(1797, 64)\n",
            "[[ 0.  0.  0. 12. 13.  5.  0.  0.]\n",
            " [ 0.  0.  0. 11. 16.  9.  0.  0.]\n",
            " [ 0.  0.  3. 15. 16.  6.  0.  0.]\n",
            " [ 0.  7. 15. 16. 16.  2.  0.  0.]\n",
            " [ 0.  0.  1. 16. 16.  3.  0.  0.]\n",
            " [ 0.  0.  1. 16. 16.  6.  0.  0.]\n",
            " [ 0.  0.  1. 16. 16.  6.  0.  0.]\n",
            " [ 0.  0.  0. 11. 16. 10.  0.  0.]]\n",
            "1\n"
          ],
          "name": "stdout"
        },
        {
          "output_type": "display_data",
          "data": {
            "image/png": "[encoded data removed]",
            "text/plain": [
              "<Figure size 432x288 with 1 Axes>"
            ]
          },
          "metadata": {
            "tags": [],
            "needs_background": "light"
          }
        }
      ]
    },
    {
      "cell_type": "code",
      "metadata": {
        "id": "yN7PZZizFoh2"
      },
      "source": [
        "# 分割数据，将25%的数据作为测试集，其余作为训练集\n",
        "train_x, test_x, train_y, test_y = train_test_split(data, digits.target, test_size=0.25, random_state=33)"
      ],
      "execution_count": 11,
      "outputs": []
    },
    {
      "cell_type": "code",
      "metadata": {
        "id": "0jRnvm16FrP1"
      },
      "source": [
        "# 采用Z-Score规范化\n",
        "ss = preprocessing.StandardScaler()\n",
        "train_ss_x = ss.fit_transform(train_x)\n",
        "test_ss_x = ss.transform(test_x)"
      ],
      "execution_count": 12,
      "outputs": []
    },
    {
      "cell_type": "code",
      "metadata": {
        "colab": {
          "base_uri": "https://localhost:8080/"
        },
        "id": "J8yJuL1qFvW6",
        "outputId": "0a052c3c-d1be-4142-8f88-9842ca066c2b"
      },
      "source": [
        "# 创建LR分类器\n",
        "lr = LogisticRegression()\n",
        "lr.fit(train_ss_x, train_y)\n",
        "predict_y=lr.predict(test_ss_x)\n",
        "print('LR准确率: %0.4lf' % accuracy_score(predict_y, test_y))"
      ],
      "execution_count": 13,
      "outputs": [
        {
          "output_type": "stream",
          "text": [
            "LR准确率: 0.9644\n"
          ],
          "name": "stdout"
        }
      ]
    }
  ]
}